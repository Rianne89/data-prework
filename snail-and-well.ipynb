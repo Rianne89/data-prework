{
 "cells": [
  {
   "cell_type": "markdown",
   "metadata": {},
   "source": [
    "<img src=\"https://bit.ly/2VnXWr2\" width=\"100\" align=\"left\">"
   ]
  },
  {
   "cell_type": "markdown",
   "metadata": {},
   "source": [
    "# The Snail and the Well\n",
    "\n",
    "A snail falls at the bottom of a 125 cm well. Each day the snail rises 30 cm. But at night, while sleeping, slides 20 cm because the walls are wet. How many days does it take for the snail to escape the well?\n",
    "\n",
    "**Hint**: The snail gets out of the well when it surpasses the 125cm of height.\n",
    "\n",
    "## Tools\n",
    "\n",
    "1. Loop: **while**\n",
    "2. Conditional statements: **if-else**\n",
    "3. Function: **print()**\n",
    "\n",
    "## Tasks\n",
    "\n",
    "#### 1. Assign the challenge data to variables with representative names: `well_height`, `daily_distance`, `nightly_distance` and `snail_position`."
   ]
  },
  {
   "cell_type": "code",
   "execution_count": 26,
   "metadata": {},
   "outputs": [],
   "source": [
    "well_height = 125\n",
    "daily_distance = 30\n",
    "nightly_distance = -20\n",
    "snail_position = 0"
   ]
  },
  {
   "cell_type": "markdown",
   "metadata": {},
   "source": [
    "#### 2. Create a variable `days` to keep count of the days that pass until the snail escapes the well. "
   ]
  },
  {
   "cell_type": "code",
   "execution_count": 27,
   "metadata": {},
   "outputs": [],
   "source": [
    "days = (daily_distance + nightly_distance)"
   ]
  },
  {
   "cell_type": "markdown",
   "metadata": {},
   "source": [
    "#### 3. Find the solution to the challenge using the variables defined above. "
   ]
  },
  {
   "cell_type": "code",
   "execution_count": 28,
   "metadata": {},
   "outputs": [],
   "source": [
    "solution = (well_height/(daily_distance + nightly_distance))"
   ]
  },
  {
   "cell_type": "markdown",
   "metadata": {},
   "source": [
    "#### 4. Print the solution."
   ]
  },
  {
   "cell_type": "code",
   "execution_count": 29,
   "metadata": {},
   "outputs": [
    {
     "name": "stdout",
     "output_type": "stream",
     "text": [
      "Number of days it takes the snail to get out: 12.5\n",
      "Snail fell in the well\n",
      "Snail is not there yet\n",
      "Snail is not there yet\n",
      "Snail is not there yet\n",
      "Snail is not there yet\n",
      "Snail is not there yet\n",
      "Snail is not there yet\n",
      "Snail is not there yet\n",
      "Snail is not there yet\n",
      "Snail is not there yet\n",
      "Snail is not there yet\n",
      "Snail is not there yet\n",
      "Snail is not there yet\n",
      "Snail escaped!\n"
     ]
    }
   ],
   "source": [
    "print(\"Number of days it takes the snail to get out:\", solution)\n",
    "\n",
    "well_height = 125\n",
    "snail_position = 0\n",
    "daily_distance = 30\n",
    "nightly_distance = -20\n",
    "\n",
    "distance = (daily_distance + nightly_distance)\n",
    "\n",
    "print(\"Snail fell in the well\")\n",
    "snail_position += distance\n",
    "\n",
    "while snail_position < well_height:\n",
    "    print(\"Snail is not there yet\")\n",
    "    snail_position += distance\n",
    "\n",
    "print(\"Snail escaped!\")"
   ]
  },
  {
   "cell_type": "markdown",
   "metadata": {},
   "source": [
    "## Bonus\n",
    "The distance traveled by the snail each day is now defined by a list.\n",
    "```\n",
    "advance_cm = [30, 21, 33, 77, 44, 45, 23, 45, 12, 34, 55]\n",
    "```\n",
    "On the first day, the snail rises 30cm but during the night it slides 20cm. On the second day, the snail rises 21cm but during the night it slides 20cm, and so on. \n",
    "\n",
    "#### 1. How many days does it take for the snail to escape the well?\n",
    "Follow the same guidelines as in the previous challenge.\n",
    "\n",
    "**Hint**: Remember that the snail gets out of the well when it surpasses the 125cm of height."
   ]
  },
  {
   "cell_type": "code",
   "execution_count": 30,
   "metadata": {},
   "outputs": [
    {
     "name": "stdout",
     "output_type": "stream",
     "text": [
      "displacement snail per day [10, 1, 13, 57, 24, 25, 3, 25, -8, 14, 35]\n",
      "total snail height [10, 11, 24, 81, 105, 130, 133, 158, 150, 164, 199]\n",
      "Number of days to get out: 5\n"
     ]
    }
   ],
   "source": [
    "advance_cm = [30, 21, 33, 77, 44, 45, 23, 45, 12, 34, 55]\n",
    "\n",
    "displacement_snail = []\n",
    "\n",
    "for i in advance_cm:\n",
    "    displacement = (i-20)\n",
    "    displacement_snail.append(displacement)\n",
    "\n",
    "print(\"displacement snail per day\", displacement_snail)\n",
    "\n",
    "snail_height = []\n",
    "height = 0\n",
    "\n",
    "for i in displacement_snail:\n",
    "    height += i\n",
    "    snail_height.append(height)\n",
    "\n",
    "print(\"total snail height\", snail_height)\n",
    "\n",
    "days = 0\n",
    "\n",
    "for i in snail_height:\n",
    "    if i < 125:\n",
    "        days += 1\n",
    "    \n",
    "    else:\n",
    "        break\n",
    "    \n",
    "print(\"Number of days to get out:\", days)"
   ]
  },
  {
   "cell_type": "markdown",
   "metadata": {},
   "source": [
    "#### 2. What is its maximum displacement in one day? And its minimum? Calculate the displacement using only the travel distance of the days used to get out of the well. \n",
    "**Hint**: Remember that displacement means the total distance risen taking into account that the snail slides at night.  "
   ]
  },
  {
   "cell_type": "code",
   "execution_count": 32,
   "metadata": {},
   "outputs": [
    {
     "name": "stdout",
     "output_type": "stream",
     "text": [
      "Max: 57\n",
      "Min: 1\n"
     ]
    }
   ],
   "source": [
    "advance_cm = [30, 21, 33, 77, 44, 45, 23, 45, 12, 34, 55]\n",
    "\n",
    "print(\"Max:\", max(displacement_snail[0:4]))\n",
    "print(\"Min:\", min(displacement_snail[0:4]))"
   ]
  },
  {
   "cell_type": "markdown",
   "metadata": {},
   "source": [
    "#### 3. What is its average progress? Take into account the snail slides at night."
   ]
  },
  {
   "cell_type": "code",
   "execution_count": 33,
   "metadata": {},
   "outputs": [
    {
     "name": "stdout",
     "output_type": "stream",
     "text": [
      "20.25\n"
     ]
    }
   ],
   "source": [
    "advance_cm = [30, 21, 33, 77, 44, 45, 23, 45, 12, 34, 55]\n",
    "\n",
    "total_distance = []\n",
    "\n",
    "for i in advance_cm:\n",
    "    displacement = (i-20)\n",
    "    total_distance.append(displacement)\n",
    "\n",
    "print((sum(total_distance[0:4]))/len(total_distance[0:4]))"
   ]
  },
  {
   "cell_type": "markdown",
   "metadata": {},
   "source": [
    "#### 4. What is the standard deviation of its displacement? Take into account the snail slides at night."
   ]
  },
  {
   "cell_type": "code",
   "execution_count": 34,
   "metadata": {},
   "outputs": [
    {
     "name": "stdout",
     "output_type": "stream",
     "text": [
      "[9.75, 0.75, 12.75, 56.75]\n",
      "[95.0625, 0.5625, 162.5625, 3220.5625]\n",
      "Variance: 1159.5833333333333\n",
      "Standard deviation: 34.052655305178966\n"
     ]
    }
   ],
   "source": [
    "advance_cm = [30, 21, 33, 77, 44, 45, 23, 45, 12, 34, 55]\n",
    "\n",
    "deviation_from_mean = []\n",
    "Mean = 20.25\n",
    "\n",
    "for i in advance_cm:\n",
    "    displacement = (i - 20.25)\n",
    "    deviation_from_mean.append(displacement)\n",
    "\n",
    "print(deviation_from_mean[0:4])\n",
    "\n",
    "square_deviation = []\n",
    "\n",
    "for i in deviation_from_mean:\n",
    "    displacement2 = (i * i)\n",
    "    square_deviation.append(displacement2)\n",
    "    \n",
    "print(square_deviation[0:4])\n",
    "\n",
    "print(\"Variance:\",(sum(square_deviation[0:4])/len(square_deviation[0:3])))\n",
    "\n",
    "print(\"Standard deviation:\",(1159.5833333333333**0.5))"
   ]
  }
 ],
 "metadata": {
  "kernelspec": {
   "display_name": "Python 3",
   "language": "python",
   "name": "python3"
  },
  "language_info": {
   "codemirror_mode": {
    "name": "ipython",
    "version": 3
   },
   "file_extension": ".py",
   "mimetype": "text/x-python",
   "name": "python",
   "nbconvert_exporter": "python",
   "pygments_lexer": "ipython3",
   "version": "3.7.6"
  }
 },
 "nbformat": 4,
 "nbformat_minor": 2
}
