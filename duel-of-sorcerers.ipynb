{
 "cells": [
  {
   "cell_type": "markdown",
   "metadata": {},
   "source": [
    "<img src=\"https://bit.ly/2VnXWr2\" width=\"100\" align=\"left\">"
   ]
  },
  {
   "cell_type": "markdown",
   "metadata": {},
   "source": [
    "# Duel of Sorcerers\n",
    "You are witnessing an epic battle between two powerful sorcerers: Gandalf and Saruman. Each sorcerer has 10 spells of variable power in their mind and they are going to throw them one after the other. The winner of the duel will be the one who wins more of those clashes between spells. Spells are represented as a list of 10 integers whose value equals the power of the spell.\n",
    "```\n",
    "gandalf = [10, 11, 13, 30, 22, 11, 10, 33, 22, 22]\n",
    "saruman = [23, 66, 12, 43, 12, 10, 44, 23, 12, 17]\n",
    "```\n",
    "For example:\n",
    "- The first clash is won by Saruman: 10 against 23.\n",
    "- The second clash is won by Saruman: 11 against 66.\n",
    "- ...\n",
    "\n",
    "You will create two variables, one for each sorcerer, where the sum of clashes won will be stored. Depending on which variable is greater at the end of the duel, you will show one of the following three results on the screen:\n",
    "* Gandalf wins\n",
    "* Saruman wins\n",
    "* Tie\n",
    "\n",
    "<img src=\"images/content_lightning_bolt_big.jpg\" width=\"400\">"
   ]
  },
  {
   "cell_type": "markdown",
   "metadata": {},
   "source": [
    "## Tools\n",
    "You don't necessarily need to use all the tools. Maybe you opt to use some of them or completely different ones, they are given to help you shape the exercise. Programming exercises can be solved in many different ways.\n",
    "\n",
    "1. Data structures: **lists, dictionaries**\n",
    "2. Loop: **for loop**\n",
    "3. Conditional statements: **if-elif-else**\n",
    "4. Functions: **range(), len(), print()**\n",
    "\n",
    "## Tasks\n",
    "\n",
    "#### 1. Create two variables called `gandalf` and `saruman` and assign them the spell power lists. Create a variable called `spells` to store the number of spells that the sorcerers cast. "
   ]
  },
  {
   "cell_type": "code",
   "execution_count": 41,
   "metadata": {},
   "outputs": [],
   "source": [
    "gandalf = [10, 11, 13, 30, 22, 11, 10, 33, 22, 22]\n",
    "saruman = [23, 66, 12, 43, 12, 10, 44, 23, 12, 17]\n",
    "spells = len(saruman)"
   ]
  },
  {
   "cell_type": "markdown",
   "metadata": {},
   "source": [
    "#### 2. Create two variables called `gandalf_wins` and `saruman_wins`. Set both of them to 0. \n",
    "You will use these variables to count the number of clashes each sorcerer wins. "
   ]
  },
  {
   "cell_type": "code",
   "execution_count": 42,
   "metadata": {},
   "outputs": [],
   "source": [
    "gandalf_wins = 0\n",
    "saruman_wins = 0"
   ]
  },
  {
   "cell_type": "markdown",
   "metadata": {},
   "source": [
    "#### 3. Using the lists of spells of both sorcerers, update variables `gandalf_wins` and `saruman_wins` to count the number of times each sorcerer wins a clash. "
   ]
  },
  {
   "cell_type": "code",
   "execution_count": 6,
   "metadata": {},
   "outputs": [
    {
     "name": "stdout",
     "output_type": "stream",
     "text": [
      "[-13, -55, 1, -13, 10, 1, -34, 10, 10, 5]\n",
      "Gandalf wins 6\n",
      "Saruman wins 4\n"
     ]
    }
   ],
   "source": [
    "gandalf = [10, 11, 13, 30, 22, 11, 10, 33, 22, 22]\n",
    "saruman = [23, 66, 12, 43, 12, 10, 44, 23, 12, 17]\n",
    "spells = 10\n",
    "\n",
    "rounds = [gandalf[i]-saruman[i] for i in range(spells)]\n",
    "print(rounds)\n",
    "\n",
    "gandalf_wins = []\n",
    "saruman_wins = []\n",
    "\n",
    "for i in rounds:\n",
    "    if i > 0:\n",
    "        gandalf_wins.append(i)\n",
    "    \n",
    "    elif i < 0:\n",
    "        saruman_wins.append(i)\n",
    "\n",
    "print(\"Gandalf wins\",(len(gandalf_wins)))\n",
    "print(\"Saruman wins\",(len(saruman_wins)))"
   ]
  },
  {
   "cell_type": "markdown",
   "metadata": {},
   "source": [
    "#### 4. Who won the battle?\n",
    "Print `Gandalf wins`, `Saruman wins` or `Tie` depending on the result. "
   ]
  },
  {
   "cell_type": "code",
   "execution_count": 7,
   "metadata": {},
   "outputs": [
    {
     "name": "stdout",
     "output_type": "stream",
     "text": [
      "Gandalf wins\n"
     ]
    }
   ],
   "source": [
    "if (len(gandalf_wins)) > (len(saruman_wins)):\n",
    "    print(\"Gandalf wins\")\n",
    "\n",
    "else:\n",
    "    print(\"Saruman wins\")"
   ]
  },
  {
   "cell_type": "markdown",
   "metadata": {},
   "source": [
    "## Bonus\n",
    "\n",
    "In this bonus challenge, you'll need to check the winner of the battle but this time, a sorcerer wins if he succeeds in winning 3 spell clashes in a row.\n",
    "\n",
    "Also, the spells now have a name and there is a dictionary that associates that name to a power.\n",
    "\n",
    "```\n",
    "POWER = {\n",
    "    'Fireball': 50, \n",
    "    'Lightning bolt': 40, \n",
    "    'Magic arrow': 10, \n",
    "    'Black Tentacles': 25, \n",
    "    'Contagion': 45\n",
    "}\n",
    "\n",
    "gandalf = ['Fireball', 'Lightning bolt', 'Lightning bolt', 'Magic arrow', 'Fireball', \n",
    "           'Magic arrow', 'Lightning bolt', 'Fireball', 'Fireball', 'Fireball']\n",
    "saruman = ['Contagion', 'Contagion', 'Black Tentacles', 'Fireball', 'Black Tentacles', \n",
    "           'Lightning bolt', 'Magic arrow', 'Contagion', 'Magic arrow', 'Magic arrow']\n",
    "```\n",
    "\n",
    "#### 1. Create variables `POWER`, `gandalf` and `saruman` as seen above. Create a variable called `spells` to store the number of spells that the sorcerers cast. "
   ]
  },
  {
   "cell_type": "code",
   "execution_count": 3,
   "metadata": {},
   "outputs": [],
   "source": [
    "POWER = {\n",
    "    'Fireball': 50, \n",
    "    'Lightning bolt': 40, \n",
    "    'Magic arrow': 10, \n",
    "    'Black Tentacles': 25, \n",
    "    'Contagion': 45\n",
    "}\n",
    "gandalf = ['Fireball', 'Lightning bolt', 'Lightning bolt', 'Magic arrow', 'Fireball', \n",
    "           'Magic arrow', 'Lightning bolt', 'Fireball', 'Fireball', 'Fireball']\n",
    "saruman = ['Contagion', 'Contagion', 'Black Tentacles', 'Fireball', 'Black Tentacles', \n",
    "           'Lightning bolt', 'Magic arrow', 'Contagion', 'Magic arrow', 'Magic arrow']\n",
    "\n",
    "spells = len(saruman)"
   ]
  },
  {
   "cell_type": "markdown",
   "metadata": {},
   "source": [
    "#### 2. Create two variables called `gandalf_wins` and `saruman_wins`. Set both of them to 0. "
   ]
  },
  {
   "cell_type": "code",
   "execution_count": 4,
   "metadata": {},
   "outputs": [],
   "source": [
    "gandalf_wins = 0\n",
    "saruman_wins = 0"
   ]
  },
  {
   "cell_type": "markdown",
   "metadata": {},
   "source": [
    "#### 3. Create two variables called `gandalf_power` and `saruman_power` to store the list of spell powers of each sorcerer."
   ]
  },
  {
   "cell_type": "code",
   "execution_count": 5,
   "metadata": {},
   "outputs": [
    {
     "name": "stdout",
     "output_type": "stream",
     "text": [
      "[50, 40, 40, 10, 50, 10, 40, 50, 50, 50]\n",
      "[45, 45, 25, 50, 25, 40, 10, 45, 10, 10]\n"
     ]
    }
   ],
   "source": [
    "gandalf_power = []\n",
    "\n",
    "for item in gandalf:\n",
    "    if item == 'Fireball':\n",
    "        gandalf_power.append(50)\n",
    "        \n",
    "    elif item == 'Lightning bolt':\n",
    "        gandalf_power.append(40)\n",
    "    \n",
    "    elif item == 'Magic arrow':\n",
    "        gandalf_power.append(10)\n",
    "        \n",
    "    elif item == 'Black Tentacles':\n",
    "        gandalf_power.append(25)\n",
    "    \n",
    "    elif item == 'Contagion':\n",
    "        gandalf_power.append(45)\n",
    "\n",
    "saruman_power = []\n",
    "for item in saruman:\n",
    "    if item == 'Fireball':\n",
    "        saruman_power.append(50)\n",
    "        \n",
    "    elif item == 'Lightning bolt':\n",
    "        saruman_power.append(40)\n",
    "    \n",
    "    elif item == 'Magic arrow':\n",
    "        saruman_power.append(10)\n",
    "        \n",
    "    elif item == 'Black Tentacles':\n",
    "        saruman_power.append(25)\n",
    "    \n",
    "    elif item == 'Contagion':\n",
    "        saruman_power.append(45)\n",
    "\n",
    "print(gandalf_power)\n",
    "print(saruman_power)"
   ]
  },
  {
   "cell_type": "markdown",
   "metadata": {},
   "source": [
    "#### 4. The battle starts! Using the variables you've created above, code the execution of spell clashes. Remember that a sorcerer wins if he succeeds in winning 3 spell clashes in a row. \n",
    "If a clash ends up in a tie, the counter of wins in a row is not restarted to 0. Remember to print who is the winner of the battle. "
   ]
  },
  {
   "cell_type": "code",
   "execution_count": 40,
   "metadata": {},
   "outputs": [
    {
     "name": "stdout",
     "output_type": "stream",
     "text": [
      "[5, -5, 15, -40, 25, -30, 30, 5, 40, 40]\n",
      "36\n",
      "4\n"
     ]
    }
   ],
   "source": [
    "rounds = [gandalf_power[i]-saruman_power[i] for i in range(spells)]\n",
    "print(rounds)\n",
    "\n",
    "for i in rounds:\n",
    "    if i > 0:\n",
    "        gandalf_wins += 1\n",
    "    \n",
    "    elif i < 0:\n",
    "        saruman_wins += 1\n",
    "\n",
    "print(gandalf_wins)\n",
    "print(saruman_wins)"
   ]
  },
  {
   "cell_type": "markdown",
   "metadata": {},
   "source": [
    "#### 5. Find the average spell power of Gandalf and Saruman. "
   ]
  },
  {
   "cell_type": "code",
   "execution_count": 81,
   "metadata": {},
   "outputs": [
    {
     "name": "stdout",
     "output_type": "stream",
     "text": [
      "Average spell power gandalf: 39.0\n",
      "Average spell power saruman: 30.5\n"
     ]
    }
   ],
   "source": [
    "print(\"Average spell power gandalf:\", (sum(gandalf_power)/len(gandalf_power)))\n",
    "print(\"Average spell power saruman:\", (sum(saruman_power)/len(saruman_power)))"
   ]
  },
  {
   "cell_type": "markdown",
   "metadata": {},
   "source": [
    "#### 6. Find the standard deviation of the spell power of Gandalf and Saruman. "
   ]
  },
  {
   "cell_type": "code",
   "execution_count": 10,
   "metadata": {},
   "outputs": [
    {
     "name": "stdout",
     "output_type": "stream",
     "text": [
      "[11, 1, 1, -29, 11, -29, 1, 11, 11, 11]\n",
      "[121, 1, 1, 841, 121, 841, 1, 121, 121, 121]\n",
      "Variance G: 229.0\n",
      "Standard deviation Gandalf: 15.132745950421556\n",
      "[14.5, 14.5, -5.5, 19.5, -5.5, 9.5, -20.5, 14.5, -20.5, -20.5]\n",
      "[210.25, 210.25, 30.25, 380.25, 30.25, 90.25, 420.25, 210.25, 420.25, 420.25]\n",
      "Variance S: 242.25\n",
      "Standard deviation Saruman: 15.56438241627338\n"
     ]
    }
   ],
   "source": [
    "gandalf_power = [50, 40, 40, 10, 50, 10, 40, 50, 50, 50]\n",
    "\n",
    "Deviation_from_mean_g = []\n",
    "\n",
    "for i in gandalf_power:\n",
    "    deviation = (i - 39)\n",
    "    Deviation_from_mean_g.append(deviation)\n",
    "\n",
    "print(Deviation_from_mean_g)\n",
    "\n",
    "square_deviation_g = []\n",
    "\n",
    "for i in Deviation_from_mean_g:\n",
    "    deviation2 = (i * i)\n",
    "    square_deviation_g.append(deviation2)\n",
    "    \n",
    "print(square_deviation_g)\n",
    "\n",
    "print(\"Variance G:\",(sum(square_deviation_g)/len(square_deviation_g)))\n",
    "\n",
    "print(\"Standard deviation Gandalf:\",(229.0**0.5))\n",
    "\n",
    "saruman_power = [45, 45, 25, 50, 25, 40, 10, 45, 10, 10]\n",
    "\n",
    "Deviation_from_mean_s = []\n",
    "\n",
    "for i in saruman_power:\n",
    "    deviation_s = (i - (30.5))\n",
    "    Deviation_from_mean_s.append(deviation_s)\n",
    "\n",
    "print(Deviation_from_mean_s)\n",
    "\n",
    "square_deviation_s = []\n",
    "\n",
    "for i in Deviation_from_mean_s:\n",
    "    deviation_s2 = (i * i)\n",
    "    square_deviation_s.append(deviation_s2)\n",
    "    \n",
    "print(square_deviation_s)\n",
    "\n",
    "print(\"Variance S:\",(sum(square_deviation_s)/len(square_deviation_s)))\n",
    "\n",
    "print(\"Standard deviation Saruman:\",(242.25**0.5))"
   ]
  }
 ],
 "metadata": {
  "kernelspec": {
   "display_name": "Python 3",
   "language": "python",
   "name": "python3"
  },
  "language_info": {
   "codemirror_mode": {
    "name": "ipython",
    "version": 3
   },
   "file_extension": ".py",
   "mimetype": "text/x-python",
   "name": "python",
   "nbconvert_exporter": "python",
   "pygments_lexer": "ipython3",
   "version": "3.7.6"
  }
 },
 "nbformat": 4,
 "nbformat_minor": 2
}
